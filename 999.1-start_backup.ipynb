{
 "cells": [
  {
   "cell_type": "code",
   "execution_count": null,
   "id": "d3185ac3-015b-4e4c-97c3-c8ab0447da53",
   "metadata": {},
   "outputs": [],
   "source": [
    "import json\n",
    "\n",
    "# JSON 파일 읽기\n",
    "with open('/root/lip-to-speech/TL163/소음환경5/C(일반인)/F(여성)/F(여성)_11/lip_K_5_F_06_C651_A_001.json', 'r') as f:\n",
    "    data = json.load(f)\n",
    "\n",
    "video_name = data[0]['Video_info']['video_Name']\n",
    "print(video_name)\n",
    "# video_Duration = data[0]['Video_info']['video_Duration']\n",
    "FPS = data[0]['Video_info']['FPS']\n",
    "# Resolution = data[0]['Video_info']['Resolution']\n",
    "# print(video_name + '\\n' + video_Duration + '\\n' + str(FPS) + '\\n' + Resolution)\n",
    "\n",
    "# Audio_Format = data[0]['Audio_info']['Audio_Format']\n",
    "# Sampling_rate = data[0]['Audio_info']['Sampling_rate']\n",
    "FPS = data[0]['Audio_info']['Sampling_rate']\n",
    "Sentence_info = data[0]['Sentence_info']\n",
    "\n",
    "annotations = []\n",
    "for sentence in Sentence_info:\n",
    "    annotations.append( (sentence['start_time'], sentence['end_time'], sentence['sentence_text']) )\n",
    "\n",
    "# annotations"
   ]
  },
  {
   "cell_type": "code",
   "execution_count": null,
   "id": "d48c6515-b5f9-4514-8f45-21428babd172",
   "metadata": {},
   "outputs": [],
   "source": []
  }
 ],
 "metadata": {
  "kernelspec": {
   "display_name": "Python 3 (ipykernel)",
   "language": "python",
   "name": "python3"
  },
  "language_info": {
   "codemirror_mode": {
    "name": "ipython",
    "version": 3
   },
   "file_extension": ".py",
   "mimetype": "text/x-python",
   "name": "python",
   "nbconvert_exporter": "python",
   "pygments_lexer": "ipython3",
   "version": "3.10.12"
  }
 },
 "nbformat": 4,
 "nbformat_minor": 5
}
